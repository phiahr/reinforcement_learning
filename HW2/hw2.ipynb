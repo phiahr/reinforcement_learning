{
 "cells": [
  {
   "cell_type": "code",
   "execution_count": 2,
   "metadata": {},
   "outputs": [],
   "source": [
    "import numpy as np\n",
    "import matplotlib.pyplot as plt"
   ]
  },
  {
   "cell_type": "code",
   "execution_count": 3,
   "metadata": {},
   "outputs": [],
   "source": [
    "Q = np.array([\n",
    "    [11, 0, 0],\n",
    "    [0, 0, 60],\n",
    "    [0, 0, 0]\n",
    "])\n",
    "\n",
    "def to_latex(A):\n",
    "    S = np.array2string(A, max_line_width=np.inf, formatter={'float_kind':lambda x: \"%.3f\" % x})\n",
    "    S = S.replace('[', '').replace(']', '')\n",
    "    R = ' \\\\\\\\ '.join(' & '.join(r.split()) for r in S.splitlines())\n",
    "    return '\\\\begin{bmatrix} ' + R + ' \\\\end{bmatrix}'"
   ]
  },
  {
   "cell_type": "code",
   "execution_count": 4,
   "metadata": {},
   "outputs": [
    {
     "name": "stdout",
     "output_type": "stream",
     "text": [
      "A: [2, 0, 0, 1, 2, 1, 0, 2]\n",
      "S: [1, 0, 1, 0, 1, 2, 0, 2]\n",
      "R: [600.0, 80.0, 100, 60, 70, 40, 20, 0]\n"
     ]
    }
   ],
   "source": [
    "\"\"\" Part 1 \"\"\"\n",
    "S_A, S_B, S_C = 0, 1, 2\n",
    "A_a, A_b, A_c = 0, 1, 2\n",
    "S = [ -1, S_A, S_B, S_A, S_B, S_C, S_A, S_C ]\n",
    "A = [ -1, -1, A_a, A_b, A_c, A_b, A_a, A_c ]\n",
    "R = [ -1, -1, 100, 60, 70, 40, 20, 0 ]\n",
    "\n",
    "Q0 = np.zeros((3,3))\n",
    "Q1 = np.zeros((3,3))\n",
    "Q2 = np.array([\n",
    "    [11, 0, 0],\n",
    "    [0, 0, 60],\n",
    "    [0, 0, 0]\n",
    "])\n",
    "\n",
    "la = 0.5\n",
    "al = 0.1\n",
    "\n",
    "\"\"\"\n",
    "    We know that a_1 is a since at t=2 we have been in two states and tried two actions; (A, a) and (B, c).\n",
    "    Since we are in state A at t=1 (S_1=A), we know that a_1 = a.\n",
    "        a_1 = a,\n",
    "    We now work backwards\n",
    "        Q_2[S_1, a_1] = Q_1[S_1, a_1] + al * (R[S_1, a_1] + la * max(Q1[S_2, :]) - Q1[S_1, a_1])\n",
    "                    = 0 + 0.1 * (x + 0.5 * 11 - 0) = 11\n",
    "\"\"\"\n",
    "S[1] = S_A\n",
    "A[1] = A_a\n",
    "Q2[S[1], A[1]] = 11\n",
    "R[1] = Q2[S[1], A[1]] / al - la * np.max(Q2[S[2], :])\n",
    "\n",
    "\"\"\"\n",
    "    We know that a_1 is a since at t=2 we have been in two states and tried two actions; (A, a) and (B, c).\n",
    "    Since we are in state A at t=1 (S_1=A), we know that S_0 = B and as such a_0 = c\n",
    "        S_0 = B,\n",
    "        a_0 = c,\n",
    "    We now work backwards\n",
    "        Q_1[S_0, a_0] = Q_0[S_0, a_0] + al * (R[S_0, a_0] + la * max(Q1[S_1, :]) - Q0[S_0, a_0])\n",
    "                    = 0 + 0.1 * (x + 0.5 * 60 - 0) = 60\n",
    "    \n",
    "\"\"\"\n",
    "S[0] = S_B\n",
    "A[0] = A_c\n",
    "Q1[S[0], A[0]] = 60\n",
    "R[0] = Q1[S[0], A[0]] / al - np.max(Q0[S[1], :])\n",
    "\n",
    "\n",
    "\"\"\" A) \"\"\"\n",
    "print(f'A: {A}')\n",
    "print(f'S: {S}')\n",
    "print(f'R: {R}')"
   ]
  },
  {
   "cell_type": "code",
   "execution_count": 5,
   "metadata": {},
   "outputs": [
    {
     "name": "stdout",
     "output_type": "stream",
     "text": [
      "\\begin{align*}\n",
      "Q_1(a_0, s_0) &= Q_0(a_0, s_0) + \\alpha (R_0 + \\lambda \\max Q_0(s_0, a') - Q_0(s_0, a_0))\n",
      "= 0.0 + 0.1 (600.0 + 0.5 \\max (0.0, 0.0, 0.0) - 0.0)\n",
      "= 60.00 \\\\\n",
      "Q_2(a_1, s_1) &= Q_1(a_1, s_1) + \\alpha (R_1 + \\lambda \\max Q_1(s_1, a') - Q_1(s_1, a_1))\n",
      "= 0.0 + 0.1 (80.0 + 0.5 \\max (0.0, 0.0, 60.0) - 0.0)\n",
      "= 11.00 \\\\\n",
      "Q_3(a_2, s_2) &= Q_2(a_2, s_2) + \\alpha (R_2 + \\lambda \\max Q_2(s_2, a') - Q_2(s_2, a_2))\n",
      "= 0.0 + 0.1 (100.0 + 0.5 \\max (11.0, 0.0, 0.0) - 0.0)\n",
      "= 10.55 \\\\\n",
      "Q_4(a_3, s_3) &= Q_3(a_3, s_3) + \\alpha (R_3 + \\lambda \\max Q_3(s_3, a') - Q_3(s_3, a_3))\n",
      "= 0.0 + 0.1 (60.0 + 0.5 \\max (10.55, 0.0, 60.0) - 0.0)\n",
      "= 9.00 \\\\\n",
      "Q_5(a_4, s_4) &= Q_4(a_4, s_4) + \\alpha (R_4 + \\lambda \\max Q_4(s_4, a') - Q_4(s_4, a_4))\n",
      "= 60.0 + 0.1 (70.0 + 0.5 \\max (0.0, 0.0, 0.0) - 60.0)\n",
      "= 61.00 \\\\\n",
      "Q_6(a_5, s_5) &= Q_5(a_5, s_5) + \\alpha (R_5 + \\lambda \\max Q_5(s_5, a') - Q_5(s_5, a_5))\n",
      "= 0.0 + 0.1 (40.0 + 0.5 \\max (11.0, 9.0, 0.0) - 0.0)\n",
      "= 4.55 \\\\\n",
      "Q_7(a_6, s_6) &= Q_6(a_6, s_6) + \\alpha (R_6 + \\lambda \\max Q_6(s_6, a') - Q_6(s_6, a_6))\n",
      "= 11.0 + 0.1 (20.0 + 0.5 \\max (0.0, 4.55, 0.0) - 11.0)\n",
      "= 12.13 \\\\\n",
      "\\end{align*}\n",
      "\\begin{bmatrix} 12.127 & 9.000 & 0.000 \\\\ 10.550 & 0.000 & 61.000 \\\\ 0.000 & 4.550 & 0.000 \\end{bmatrix}\n"
     ]
    }
   ],
   "source": [
    "\"\"\" B) \"\"\"\n",
    "Q0 = np.zeros((3,3))\n",
    "print('\\\\begin{align*}')\n",
    "for i, (a, s, r, s_) in enumerate(zip(A, S, R, S[1:])):\n",
    "    print(f\"Q_{i+1}(a_{i}, s_{i}) &= Q_{i}(a_{i}, s_{i}) + \\\\alpha (R_{i} + \\\\lambda \\\\max Q_{i}(s_{i}, a') - Q_{i}(s_{i}, a_{i}))\")\n",
    "    print(f\"= {Q0[s, a]:.1f} + {al} ({r:.1f} + {la} \\\\max {tuple(Q0[s_, :])} - {Q0[s, a]:.1f})\")\n",
    "    Q0[s, a] = Q0[s, a] + al * (r + la * max(Q0[s_, :]) - Q0[s, a])\n",
    "    print(f\"= {Q0[s, a]:.2f} \\\\\\\\\")\n",
    "print('\\\\end{align*}')\n",
    "\n",
    "print(to_latex(Q0))"
   ]
  },
  {
   "cell_type": "code",
   "execution_count": 6,
   "metadata": {},
   "outputs": [
    {
     "name": "stdout",
     "output_type": "stream",
     "text": [
      "[[0. 0. 0.]\n",
      " [0. 0. 0.]\n",
      " [0. 0. 0.]]\n",
      "[[ 0.  0.  0.]\n",
      " [ 0.  0. 60.]\n",
      " [ 0.  0.  0.]]\n",
      "[[ 8.  0.  0.]\n",
      " [ 0.  0. 60.]\n",
      " [ 0.  0.  0.]]\n",
      "[[ 8.  0.  0.]\n",
      " [13.  0. 60.]\n",
      " [ 0.  0.  0.]]\n",
      "[[ 8.   6.4  0. ]\n",
      " [13.   0.  60. ]\n",
      " [ 0.   0.   0. ]]\n",
      "[[ 8.   6.4  0. ]\n",
      " [13.   0.  64. ]\n",
      " [ 0.   0.   0. ]]\n",
      "[[ 8.   6.4  0. ]\n",
      " [13.   0.  64. ]\n",
      " [ 0.   4.   0. ]]\n",
      "[[ 9.6  6.4  0. ]\n",
      " [13.   0.  64. ]\n",
      " [ 0.   4.   0. ]]\n",
      "[[ 9.6  6.4  0. ]\n",
      " [13.   0.  64. ]\n",
      " [ 0.   4.   0.2]]\n"
     ]
    }
   ],
   "source": [
    "\"\"\" B) \"\"\"\n",
    "Q0 = np.zeros((3,3))\n",
    "print(Q0)\n",
    "for i, (a, s, r) in enumerate(zip(A, S, R)):\n",
    "    Q0[s, a] = Q0[s, a] + al * (r + la * max(Q0[s, :]) - Q0[s, a])\n",
    "    print(Q0)"
   ]
  },
  {
   "cell_type": "code",
   "execution_count": 7,
   "metadata": {},
   "outputs": [
    {
     "name": "stdout",
     "output_type": "stream",
     "text": [
      "pi_A: 0\n",
      "pi_B: 2\n",
      "pi_C: 1\n"
     ]
    }
   ],
   "source": [
    "\"\"\" C) \"\"\"\n",
    "pi_A = np.argmax(Q0[S_A, :])\n",
    "pi_B = np.argmax(Q0[S_B, :])\n",
    "pi_C = np.argmax(Q0[S_C, :])\n",
    "print(f'pi_A: {pi_A}')\n",
    "print(f'pi_B: {pi_B}')\n",
    "print(f'pi_C: {pi_C}')"
   ]
  },
  {
   "cell_type": "code",
   "execution_count": 8,
   "metadata": {},
   "outputs": [
    {
     "name": "stdout",
     "output_type": "stream",
     "text": [
      "\\begin{align*}\n",
      "Q_1(a_0, s_0) &= Q_0(a_0, s_0) + \\alpha (R_0 + \\lambda Q_0(s_1, a_1) - Q_0(s_0, a_0))\n",
      "= 0.0 + 0.1 (600.0 + 0.5 \\cdot 0.00 - 0.00)\n",
      "= 60.00 \\\\\n",
      "Q_2(a_1, s_1) &= Q_1(a_1, s_1) + \\alpha (R_1 + \\lambda Q_1(s_2, a_2) - Q_1(s_1, a_1))\n",
      "= 0.0 + 0.1 (80.0 + 0.5 \\cdot 0.00 - 0.00)\n",
      "= 8.00 \\\\\n",
      "Q_3(a_2, s_2) &= Q_2(a_2, s_2) + \\alpha (R_2 + \\lambda Q_2(s_3, a_3) - Q_2(s_2, a_2))\n",
      "= 0.0 + 0.1 (100.0 + 0.5 \\cdot 0.00 - 0.00)\n",
      "= 10.00 \\\\\n",
      "Q_4(a_3, s_3) &= Q_3(a_3, s_3) + \\alpha (R_3 + \\lambda Q_3(s_4, a_4) - Q_3(s_3, a_3))\n",
      "= 0.0 + 0.1 (60.0 + 0.5 \\cdot 60.00 - 0.00)\n",
      "= 9.00 \\\\\n",
      "Q_5(a_4, s_4) &= Q_4(a_4, s_4) + \\alpha (R_4 + \\lambda Q_4(s_5, a_5) - Q_4(s_4, a_4))\n",
      "= 60.0 + 0.1 (70.0 + 0.5 \\cdot 0.00 - 60.00)\n",
      "= 61.00 \\\\\n",
      "Q_6(a_5, s_5) &= Q_5(a_5, s_5) + \\alpha (R_5 + \\lambda Q_5(s_6, a_6) - Q_5(s_5, a_5))\n",
      "= 0.0 + 0.1 (40.0 + 0.5 \\cdot 8.00 - 0.00)\n",
      "= 4.40 \\\\\n",
      "Q_7(a_6, s_6) &= Q_6(a_6, s_6) + \\alpha (R_6 + \\lambda Q_6(s_7, a_7) - Q_6(s_6, a_6))\n",
      "= 8.0 + 0.1 (20.0 + 0.5 \\cdot 0.00 - 8.00)\n",
      "= 9.20 \\\\\n",
      "\\end{align*}\n",
      "\\begin{bmatrix} 9.200 & 9.000 & 0.000 \\\\ 10.000 & 0.000 & 61.000 \\\\ 0.000 & 4.400 & 0.000 \\end{bmatrix}\n"
     ]
    }
   ],
   "source": [
    "\"\"\" D) \"\"\"\n",
    "Q0 = np.zeros((3,3))\n",
    "print('\\\\begin{align*}')\n",
    "for i, (a, s, r, s_, a_) in enumerate(zip(A, S, R, S[1:], A[1:])):\n",
    "    print(f\"Q_{i+1}(a_{i}, s_{i}) &= Q_{i}(a_{i}, s_{i}) + \\\\alpha (R_{i} + \\\\lambda Q_{i}(s_{i+1}, a_{i+1}) - Q_{i}(s_{i}, a_{i}))\")\n",
    "    print(f\"= {Q0[s, a]:.1f} + {al} ({r:.1f} + {la} \\\\cdot {Q0[s_, a_]:.2f} - {Q0[s, a]:.2f})\")\n",
    "    Q0[s, a] = Q0[s, a] + al * (r + la * Q0[s_, a_] - Q0[s, a])\n",
    "    print(f\"= {Q0[s, a]:.2f} \\\\\\\\\")\n",
    "print('\\\\end{align*}')\n",
    "\n",
    "print(to_latex(Q0))"
   ]
  },
  {
   "cell_type": "code",
   "execution_count": 9,
   "metadata": {},
   "outputs": [
    {
     "name": "stdout",
     "output_type": "stream",
     "text": [
      "0:\n",
      " [[0. 0. 0.]\n",
      " [0. 0. 0.]\n",
      " [0. 0. 0.]]\n",
      "1:\n",
      " [[ 0.  0.  0.]\n",
      " [ 0.  0. 60.]\n",
      " [ 0.  0.  0.]]\n",
      "2:\n",
      " [[ 8.  0.  0.]\n",
      " [ 0.  0. 60.]\n",
      " [ 0.  0.  0.]]\n",
      "3:\n",
      " [[ 8.  0.  0.]\n",
      " [10.  0. 60.]\n",
      " [ 0.  0.  0.]]\n",
      "4:\n",
      " [[ 8.  9.  0.]\n",
      " [10.  0. 60.]\n",
      " [ 0.  0.  0.]]\n",
      "5:\n",
      " [[ 8.  9.  0.]\n",
      " [10.  0. 61.]\n",
      " [ 0.  0.  0.]]\n",
      "6:\n",
      " [[ 8.   9.   0. ]\n",
      " [10.   0.  61. ]\n",
      " [ 0.   4.4  0. ]]\n",
      "7:\n",
      " [[ 9.2  9.   0. ]\n",
      " [10.   0.  61. ]\n",
      " [ 0.   4.4  0. ]]\n"
     ]
    }
   ],
   "source": [
    "\"\"\" D) SARSA \"\"\"\n",
    "Q0 = np.zeros((3,3))\n",
    "print(f'{0}:\\n', Q0)\n",
    "for i, (a, s, r, s_, a_) in enumerate(zip(A, S, R, S[1:], A[1:])):\n",
    "    Q0[s, a] = Q0[s, a] + al * (r + la * Q0[s_, a_] - Q0[s, a])\n",
    "    print(f'{i+1}:\\n', Q0)"
   ]
  },
  {
   "cell_type": "code",
   "execution_count": 10,
   "metadata": {},
   "outputs": [
    {
     "name": "stdout",
     "output_type": "stream",
     "text": [
      "pi_A: 0\n",
      "pi_B: 2\n",
      "pi_C: 1\n"
     ]
    }
   ],
   "source": [
    "\"\"\" E) \"\"\"\n",
    "pi_A = np.argmax(Q0[S_A, :])\n",
    "pi_B = np.argmax(Q0[S_B, :])\n",
    "pi_C = np.argmax(Q0[S_C, :])\n",
    "print(f'pi_A: {pi_A}')\n",
    "print(f'pi_B: {pi_B}')\n",
    "print(f'pi_C: {pi_C}')"
   ]
  },
  {
   "cell_type": "code",
   "execution_count": 11,
   "metadata": {},
   "outputs": [
    {
     "name": "stdout",
     "output_type": "stream",
     "text": [
      "S: [1, 0, 1, 0, 1, 2, 0, 2]\n",
      "A: [2, 0, 0, 1, 2, 1, 0, 2]\n",
      "R: [600.0, 80.0, 100, 60, 70, 40, 20, 0]\n"
     ]
    }
   ],
   "source": [
    "\"\"\" F)\n",
    "    The rewards are probably not deterministic,\n",
    "    since t=0 and t=4 have the same state and action but different rewards.\n",
    "\"\"\"\n",
    "print(f'S: {S}')\n",
    "print(f'A: {A}')\n",
    "print(f'R: {R}')"
   ]
  },
  {
   "cell_type": "code",
   "execution_count": 12,
   "metadata": {},
   "outputs": [
    {
     "name": "stdout",
     "output_type": "stream",
     "text": [
      "0.25485197844975094\n"
     ]
    },
    {
     "name": "stdout",
     "output_type": "stream",
     "text": [
      "0.254105\n"
     ]
    }
   ],
   "source": [
    "\"\"\" Part 2 \"\"\"\n",
    "n = 3\n",
    "p = np.random.uniform(0, 1, size=(n,))\n",
    "\n",
    "f = lambda s: 1 / (1 + np.exp(-0.1*s)) + 1\n",
    "def v(s, P):\n",
    "    Z = np.random.uniform(0, 1, size=(n,)) * f(s)\n",
    "    for i, z, p in zip(range(n), Z, P):\n",
    "        if z < p:\n",
    "            return i + 1\n",
    "    return n + 1\n",
    "\n",
    "s = 3\n",
    "fs = f(s)\n",
    "print((1 - p[0] / f(s)) * p[1] / fs)\n",
    "N = 200000\n",
    "k = 0\n",
    "for _ in range(N):\n",
    "    k += v(s, p) == 2\n",
    "print(k / N)"
   ]
  },
  {
   "cell_type": "code",
   "execution_count": 13,
   "metadata": {},
   "outputs": [
    {
     "data": {
      "text/plain": [
       "' A) \\n1)\\n    pi_theta(s, 1) = int_0^f(s) delta(z < p_1) dz / int_0^f(s) dz\\n                    = f(s)^{-1} int_0^f(s) delta(z < p_1) dz\\n                = f(s)^{-1} int_0^min(p_1, f(s)) dz\\n                = p_1 / f(s)\\n2)\\n    pi_theta(s, 2) = (1 - pi_theta(s, 1)) int_0^f(s) delta(z < p_2) dz / int_0^f(s) dz\\n                    = p_2 / f(s) * (1 - p_1 / f(s))\\n3)\\n    pi_theta(s, n+1) = prod_{i=1}^n (1 - p_i / f(s))\\n'"
      ]
     },
     "execution_count": 13,
     "metadata": {},
     "output_type": "execute_result"
    }
   ],
   "source": [
    "\"\"\" A) \n",
    "1)\n",
    "    pi_theta(s, 1) = int_0^f(s) delta(z < p_1) dz / int_0^f(s) dz\n",
    "                    = f(s)^{-1} int_0^f(s) delta(z < p_1) dz\n",
    "                = f(s)^{-1} int_0^min(p_1, f(s)) dz\n",
    "                = p_1 / f(s)\n",
    "2)\n",
    "    pi_theta(s, 2) = (1 - pi_theta(s, 1)) int_0^f(s) delta(z < p_2) dz / int_0^f(s) dz\n",
    "                    = p_2 / f(s) * (1 - p_1 / f(s))\n",
    "3)\n",
    "    pi_theta(s, n+1) = prod_{i=1}^n (1 - p_i / f(s))\n",
    "\"\"\""
   ]
  },
  {
   "cell_type": "code",
   "execution_count": 14,
   "metadata": {},
   "outputs": [
    {
     "data": {
      "text/plain": [
       "' B)\\n1)\\n    \\x0crac{\\\\partial ln(pi_theta(s, i))}{\\\\partial p_i}\\n                        = \\x0crac{\\\\partial ln(p_1 / f(s))}{\\\\partial p_i}\\n                        = 1 / p_1\\n2)\\n    if k < i\\n    \\x0crac{\\\\partial ln(pi_theta(s, i))}{\\\\partial p_k}\\n                        = \\x0crac{\\\\partial ln(\\n                            p_i / f(s) prod_{j=1}^{i-1} (1 - p_j / f(s))\\n                        )}{\\\\partial p_k}\\n                        = \\x0crac{\\\\partial ln(\\n                            1 - p_k / f(s)\\n                        )}{\\\\partial p_k}\\n                        = -1 / f(s) * 1 / (1 - p_k / f(s))\\n                        = 1 / (p_k - f(s))\\n3)\\n    if i < k\\n    \\x0crac{\\\\partial ln(pi_theta(s, i))}{\\\\partial p_k}\\n                        = \\x0crac{\\\\partial ln(\\n                            p_i / f(s) prod_{j=1}^{i-1} (1 - p_j / f(s))\\n                        )}{\\\\partial p_k}\\n                        =\\n                        0\\n'"
      ]
     },
     "execution_count": 14,
     "metadata": {},
     "output_type": "execute_result"
    }
   ],
   "source": [
    "\"\"\" B)\n",
    "1)\n",
    "    \\frac{\\partial ln(pi_theta(s, i))}{\\partial p_i}\n",
    "                        = \\frac{\\partial ln(p_1 / f(s))}{\\partial p_i}\n",
    "                        = 1 / p_1\n",
    "2)\n",
    "    if k < i\n",
    "    \\frac{\\partial ln(pi_theta(s, i))}{\\partial p_k}\n",
    "                        = \\frac{\\partial ln(\n",
    "                            p_i / f(s) prod_{j=1}^{i-1} (1 - p_j / f(s))\n",
    "                        )}{\\partial p_k}\n",
    "                        = \\frac{\\partial ln(\n",
    "                            1 - p_k / f(s)\n",
    "                        )}{\\partial p_k}\n",
    "                        = -1 / f(s) * 1 / (1 - p_k / f(s))\n",
    "                        = 1 / (p_k - f(s))\n",
    "3)\n",
    "    if i < k\n",
    "    \\frac{\\partial ln(pi_theta(s, i))}{\\partial p_k}\n",
    "                        = \\frac{\\partial ln(\n",
    "                            p_i / f(s) prod_{j=1}^{i-1} (1 - p_j / f(s))\n",
    "                        )}{\\partial p_k}\n",
    "                        =\n",
    "                        0\n",
    "\"\"\""
   ]
  },
  {
   "cell_type": "code",
   "execution_count": 15,
   "metadata": {},
   "outputs": [
    {
     "data": {
      "text/plain": [
       "' C)\\nw = normal(0, 1, size=(p,))\\n\\nfor episode in range(num_episodes):\\n    s = s0\\n    done = False\\n    while not done:\\n        a = policy(s) # perhaps epsilon-greedy\\n        s_next, r, done = env.step(a)\\n\\n        delta = r + gamma * v(s_next, w) - v(s, w)\\n        w = w + alpha * delta * grad_v(s, w)\\n        s = s_next\\n\\nit is a semi-gradient algorithm because the gradient is not taken with respect to the policy parameters,\\nit is taken with respect to the value function parameters.\\n'"
      ]
     },
     "execution_count": 15,
     "metadata": {},
     "output_type": "execute_result"
    }
   ],
   "source": [
    "\"\"\" C)\n",
    "w = normal(0, 1, size=(p,))\n",
    "\n",
    "for episode in range(num_episodes):\n",
    "    s = s0\n",
    "    done = False\n",
    "    while not done:\n",
    "        a = policy(s) # perhaps epsilon-greedy\n",
    "        s_next, r, done = env.step(a)\n",
    "\n",
    "        delta = r + gamma * v(s_next, w) - v(s, w)\n",
    "        w = w + alpha * delta * grad_v(s, w)\n",
    "        s = s_next\n",
    "\n",
    "it is a semi-gradient algorithm because the gradient is not taken with respect to the policy parameters,\n",
    "it is taken with respect to the value function parameters.\n",
    "\"\"\""
   ]
  },
  {
   "cell_type": "code",
   "execution_count": 16,
   "metadata": {},
   "outputs": [
    {
     "data": {
      "text/plain": [
       "' D)\\nThe target is the value function, which is updated in every step.\\nThis could affect the convergence because the value function is not stationary.\\nWe can address this problem by using a target value function, which is not updated in every step.\\nLike n-step SARSA.\\n'"
      ]
     },
     "execution_count": 16,
     "metadata": {},
     "output_type": "execute_result"
    }
   ],
   "source": [
    "\"\"\" D)\n",
    "The target is the value function, which is updated in every step.\n",
    "This could affect the convergence because the value function is not stationary.\n",
    "We can address this problem by using a target value function, which is not updated in every step.\n",
    "Like n-step SARSA.\n",
    "\"\"\""
   ]
  }
 ],
 "metadata": {
  "kernelspec": {
   "display_name": "Python 3",
   "language": "python",
   "name": "python3"
  },
  "language_info": {
   "codemirror_mode": {
    "name": "ipython",
    "version": 3
   },
   "file_extension": ".py",
   "mimetype": "text/x-python",
   "name": "python",
   "nbconvert_exporter": "python",
   "pygments_lexer": "ipython3",
   "version": "3.10.12"
  }
 },
 "nbformat": 4,
 "nbformat_minor": 2
}
