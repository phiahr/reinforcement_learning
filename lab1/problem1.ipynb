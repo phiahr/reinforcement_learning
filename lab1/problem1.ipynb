{
 "cells": [
  {
   "cell_type": "markdown",
   "metadata": {},
   "source": [
    "# Solution to the preparatory lab \n",
    "In this notebook, we use the following modules `numpy` and `maze`. The latter is a home made module, where all the solutions to the questions are implemented. We will refer to it at each answer, and we encourage you to read it."
   ]
  },
  {
   "cell_type": "code",
   "execution_count": 1,
   "metadata": {},
   "outputs": [],
   "source": [
    "import numpy as np\n",
    "import maze as mz "
   ]
  },
  {
   "cell_type": "markdown",
   "metadata": {},
   "source": [
    "# Problem 1: Shortest path in the maze\n",
    "\n",
    "The objective of problem 1 is to solve the shortest path problem in a maze. We start first by describing the maze as a numpy array. "
   ]
  },
  {
   "cell_type": "code",
   "execution_count": 2,
   "metadata": {},
   "outputs": [],
   "source": [
    "# Description of the maze as a numpy array\n",
    "maze = np.array([\n",
    "    [0, 0, 1, 0, 0, 0, 0, 0],\n",
    "    [0, 0, 1, 0, 0, 1, 0, 0],\n",
    "    [0, 0, 1, 0, 0, 1, 1, 1],\n",
    "    [0, 0, 1, 0, 0, 1, 0, 0],\n",
    "    [0, 0, 0, 0, 0, 0, 0, 0],\n",
    "    [0, 1, 1, 1, 1, 1, 1, 0],\n",
    "    [0, 0, 0, 0, 1, 2, 0, 0]\n",
    "])\n",
    "# with the convention \n",
    "# 0 = empty cell\n",
    "# 1 = obstacle\n",
    "# 2 = exit of the Maze"
   ]
  },
  {
   "cell_type": "markdown",
   "metadata": {},
   "source": [
    "The method `maze.draw_maze()` helps us draw the maze given its numpy array discription.  "
   ]
  },
  {
   "cell_type": "code",
   "execution_count": 3,
   "metadata": {},
   "outputs": [
    {
     "data": {
      "image/png": "[encoded data removed]",
      "text/plain": [
       "<Figure size 800x700 with 1 Axes>"
      ]
     },
     "metadata": {},
     "output_type": "display_data"
    }
   ],
   "source": [
    "mz.draw_maze(maze)"
   ]
  },
  {
   "cell_type": "markdown",
   "metadata": {},
   "source": [
    "## MDP formulation\n",
    "\n",
    "We propose the following MDP formulation: \n",
    "\n",
    "#### State space $\\mathcal{S}$\n",
    "We model the state space as the set of all possible positions of the player in the maze. Note that we exclude the obstacles' position since these are impossible states to be in for the player. Formally, the state space is\n",
    "\n",
    "$$\\mathcal{S} = \\big\\lbrace (i,j):\\textrm{such that the cell\n",
    "} (i,j) \\textrm{ is not an obstacle}\\big\\rbrace.$$\n",
    "> **Note:** The choice of state space is not unique. For instance one could consider $\\mathcal{S}$ to be the set of all positions in the  maze regardless of whether they correspond to an obstacle or not. But note that, this will increase the size $\\vert \\mathcal{S} \\vert $. This is fine for small mazes, but it leads to many redundant states as the maze dimension increases.\n",
    "\n",
    "#### Action space $\\mathcal{A}$\n",
    "We allow the player to chose to either move `left`, `right`, `down`, `up` or not move at all (`stay`). Note that sometimes the player cannot move in a certain direction because of an obstacle or a wall, yet we permit this to be action. We will see that this is not an issue as long as we define our transition probabilities and rewards appropriately.\n",
    "Formally, the action space is\n",
    "\n",
    "$$\\mathcal{A} = \\lbrace \\textrm{up}, \\textrm{ down}, \\textrm{ left}, \\textrm{ right}, \\textrm{ stay} \\rbrace.$$\n",
    "> **Note:** Once again, the choice of the action space is not unique. For instance one could remove the action `stay` from $\\mathcal{A}$, but then one should modify the transition probabilities accordingly as well as the rewards.  \n",
    "\n",
    "\n",
    "#### Transition probabilities $\\mathcal{P}$\n",
    "Note that there is no randomness involved upon taking an action by the player. As a consequence, the transition probabilities are deterministic. More precisely,   \n",
    "- If at state (or position) $s$ taking action (or move) $a$ does not lead to a wall or an obstacle but to another state (or position) $s'$, then $\\mathbb{P}(s' \\vert s, a) = 1$. \n",
    "- If at state (or position)  $s$ taking action (or move) $a$ leads to a wall or an obstacle, the player remains in his state (or position) $s$, then $\\mathbb{P}(s \\vert s, a) = 1$.\n",
    "\n",
    "> **Note**: Recall that for a fixed $s \\in \\mathcal{S}$ and $a \\in \\mathcal{A}$ we have $\\sum_{s' \\in \\mathcal{S}} \\mathbb{P}(s' \\vert s, a) = 1$, thus if for some $s' \\in \\mathcal{S}$  we have $\\mathbb{P}(s' \\vert s, a) = 1$, then for all $s'' \\in \\mathcal{S} \\backslash \\lbrace s'\\rbrace$ we have $\\mathbb{P}(s'' \\vert s, a) = 0$,\n",
    "\n",
    "#### Rewards $\\mathcal{R}$\n",
    "The objective of the player is to find the exit of the maze while avoiding the obstacles.    \n",
    "   - If at state $s$, taking action $a$, leads to a wall or an obstacle then $r(s,a) = -\\infty$\n",
    "   - If at state $s$, taking action $a$, leads to some other position in the maze that is not the exit nor a wall nor an obstacle, then $r(s, a) = -1$. \n",
    "   - If at state $s$, taking action $a$, leads to the exit then $r(s ,a) = 0$. \n",
    "> **Note**: Here the rewards are independent of time (i.e. $r_t(.,.) = r(.,.)$). \n",
    "\n",
    "\n",
    "### Implementation\n",
    "The above MDP formulation is implemented as a class ``maze.Maze`` in the file [maze.py](./maze.py) which given a matrix description of the maze instanciates the state space, action space, transition probabilities and rewards. \n",
    "\n",
    "> **Note:** In the class `maze.Maze` each state $s = (i,j)$ is given a unique identifier $s_{id} \\in \\lbrace 0, , \\dots, \\vert S \\vert -1 \\rbrace$. In other words, the state space from an implementation perspective is viewed as the set of integers $\\lbrace 0, , \\dots, \\vert S \\vert -1 \\rbrace$. This mapping is done via the dictionary `self.map` and its inverse mapping via the dictionary `self.states`.   "
   ]
  },
  {
   "cell_type": "code",
   "execution_count": 4,
   "metadata": {},
   "outputs": [
    {
     "name": "stdout",
     "output_type": "stream",
     "text": [
      "0 0 (3, 1)\n",
      "0 -1 (3, 1)\n",
      "0 1 (3, 1)\n",
      "-1 0 (3, 1)\n",
      "1 0 (3, 1)\n",
      "0 1 (3, 1)\n",
      "0 0 (3, 1)\n",
      "0 2 (3, 1)\n",
      "-1 1 (3, 1)\n",
      "1 1 (3, 1)\n",
      "0 3 (3, 1)\n",
      "0 2 (3, 1)\n",
      "0 4 (3, 1)\n",
      "-1 3 (3, 1)\n",
      "1 3 (3, 1)\n",
      "0 4 (3, 1)\n",
      "0 3 (3, 1)\n",
      "0 5 (3, 1)\n",
      "-1 4 (3, 1)\n",
      "1 4 (3, 1)\n",
      "0 5 (3, 1)\n",
      "0 4 (3, 1)\n",
      "0 6 (3, 1)\n",
      "-1 5 (3, 1)\n",
      "1 5 (3, 1)\n",
      "0 6 (3, 1)\n",
      "0 5 (3, 1)\n",
      "0 7 (3, 1)\n",
      "-1 6 (3, 1)\n",
      "1 6 (3, 1)\n",
      "0 7 (3, 1)\n",
      "0 6 (3, 1)\n",
      "0 8 (3, 1)\n",
      "-1 7 (3, 1)\n",
      "1 7 (3, 1)\n",
      "1 0 (3, 1)\n",
      "1 -1 (3, 1)\n",
      "1 1 (3, 1)\n",
      "0 0 (3, 1)\n",
      "2 0 (3, 1)\n",
      "1 1 (3, 1)\n",
      "1 0 (3, 1)\n",
      "1 2 (3, 1)\n",
      "0 1 (3, 1)\n",
      "2 1 (3, 1)\n",
      "1 3 (3, 1)\n",
      "1 2 (3, 1)\n",
      "1 4 (3, 1)\n",
      "0 3 (3, 1)\n",
      "2 3 (3, 1)\n",
      "1 4 (3, 1)\n",
      "1 3 (3, 1)\n",
      "1 5 (3, 1)\n",
      "0 4 (3, 1)\n",
      "2 4 (3, 1)\n",
      "1 6 (3, 1)\n",
      "1 5 (3, 1)\n",
      "1 7 (3, 1)\n",
      "0 6 (3, 1)\n",
      "2 6 (3, 1)\n",
      "1 7 (3, 1)\n",
      "1 6 (3, 1)\n",
      "1 8 (3, 1)\n",
      "0 7 (3, 1)\n",
      "2 7 (3, 1)\n",
      "2 0 (3, 1)\n",
      "2 -1 (3, 1)\n",
      "2 1 (3, 1)\n",
      "1 0 (3, 1)\n",
      "3 0 (3, 1)\n",
      "2 1 (3, 1)\n",
      "2 0 (3, 1)\n",
      "2 2 (3, 1)\n",
      "1 1 (3, 1)\n",
      "3 1 (3, 1)\n",
      "MINOTAUR\n",
      "2 3 (3, 1)\n",
      "2 2 (3, 1)\n",
      "2 4 (3, 1)\n",
      "1 3 (3, 1)\n",
      "3 3 (3, 1)\n",
      "2 4 (3, 1)\n",
      "2 3 (3, 1)\n",
      "2 5 (3, 1)\n",
      "1 4 (3, 1)\n",
      "3 4 (3, 1)\n",
      "3 0 (3, 1)\n",
      "3 -1 (3, 1)\n",
      "3 1 (3, 1)\n",
      "MINOTAUR\n",
      "2 0 (3, 1)\n",
      "4 0 (3, 1)\n",
      "CAUGHT\n",
      "CAUGHT\n",
      "CAUGHT\n",
      "CAUGHT\n",
      "CAUGHT\n",
      "3 3 (3, 1)\n",
      "3 2 (3, 1)\n",
      "3 4 (3, 1)\n",
      "2 3 (3, 1)\n",
      "4 3 (3, 1)\n",
      "3 4 (3, 1)\n",
      "3 3 (3, 1)\n",
      "3 5 (3, 1)\n",
      "2 4 (3, 1)\n",
      "4 4 (3, 1)\n",
      "3 6 (3, 1)\n",
      "3 5 (3, 1)\n",
      "3 7 (3, 1)\n",
      "2 6 (3, 1)\n",
      "4 6 (3, 1)\n",
      "3 7 (3, 1)\n",
      "3 6 (3, 1)\n",
      "3 8 (3, 1)\n",
      "2 7 (3, 1)\n",
      "4 7 (3, 1)\n",
      "4 0 (3, 1)\n",
      "4 -1 (3, 1)\n",
      "4 1 (3, 1)\n",
      "3 0 (3, 1)\n",
      "5 0 (3, 1)\n",
      "4 1 (3, 1)\n",
      "4 0 (3, 1)\n",
      "4 2 (3, 1)\n",
      "3 1 (3, 1)\n",
      "MINOTAUR\n",
      "5 1 (3, 1)\n",
      "4 2 (3, 1)\n",
      "4 1 (3, 1)\n",
      "4 3 (3, 1)\n",
      "3 2 (3, 1)\n",
      "5 2 (3, 1)\n",
      "4 3 (3, 1)\n",
      "4 2 (3, 1)\n",
      "4 4 (3, 1)\n",
      "3 3 (3, 1)\n",
      "5 3 (3, 1)\n",
      "4 4 (3, 1)\n",
      "4 3 (3, 1)\n",
      "4 5 (3, 1)\n",
      "3 4 (3, 1)\n",
      "5 4 (3, 1)\n",
      "4 5 (3, 1)\n",
      "4 4 (3, 1)\n",
      "4 6 (3, 1)\n",
      "3 5 (3, 1)\n",
      "5 5 (3, 1)\n",
      "4 6 (3, 1)\n",
      "4 5 (3, 1)\n",
      "4 7 (3, 1)\n",
      "3 6 (3, 1)\n",
      "5 6 (3, 1)\n",
      "4 7 (3, 1)\n",
      "4 6 (3, 1)\n",
      "4 8 (3, 1)\n",
      "3 7 (3, 1)\n",
      "5 7 (3, 1)\n",
      "5 0 (3, 1)\n",
      "5 -1 (3, 1)\n",
      "5 1 (3, 1)\n",
      "4 0 (3, 1)\n",
      "6 0 (3, 1)\n",
      "5 7 (3, 1)\n",
      "5 6 (3, 1)\n",
      "5 8 (3, 1)\n",
      "4 7 (3, 1)\n",
      "6 7 (3, 1)\n",
      "6 0 (3, 1)\n",
      "6 -1 (3, 1)\n",
      "6 1 (3, 1)\n",
      "5 0 (3, 1)\n",
      "7 0 (3, 1)\n",
      "6 1 (3, 1)\n",
      "6 0 (3, 1)\n",
      "6 2 (3, 1)\n",
      "5 1 (3, 1)\n",
      "7 1 (3, 1)\n",
      "6 2 (3, 1)\n",
      "6 1 (3, 1)\n",
      "6 3 (3, 1)\n",
      "5 2 (3, 1)\n",
      "7 2 (3, 1)\n",
      "6 3 (3, 1)\n",
      "6 2 (3, 1)\n",
      "6 4 (3, 1)\n",
      "5 3 (3, 1)\n",
      "7 3 (3, 1)\n",
      "6 5 (3, 1)\n",
      "6 4 (3, 1)\n",
      "6 6 (3, 1)\n",
      "5 5 (3, 1)\n",
      "7 5 (3, 1)\n",
      "6 6 (3, 1)\n",
      "6 5 (3, 1)\n",
      "6 7 (3, 1)\n",
      "5 6 (3, 1)\n",
      "7 6 (3, 1)\n",
      "6 7 (3, 1)\n",
      "6 6 (3, 1)\n",
      "6 8 (3, 1)\n",
      "5 7 (3, 1)\n",
      "7 7 (3, 1)\n",
      "0\n",
      "0 0 (3, 0)\n",
      "0 -1 (3, 0)\n",
      "0 1 (3, 0)\n",
      "-1 0 (3, 0)\n",
      "1 0 (3, 0)\n",
      "1\n",
      "0 1 (2, 0)\n",
      "0 0 (2, 0)\n",
      "0 2 (2, 0)\n",
      "-1 1 (2, 0)\n",
      "1 1 (2, 0)\n",
      "2\n",
      "0 3 (2, 1)\n",
      "0 2 (2, 1)\n",
      "0 4 (2, 1)\n",
      "-1 3 (2, 1)\n",
      "1 3 (2, 1)\n",
      "3\n",
      "0 4 (3, 1)\n",
      "0 3 (3, 1)\n",
      "0 5 (3, 1)\n",
      "-1 4 (3, 1)\n",
      "1 4 (3, 1)\n",
      "4\n",
      "0 5 (3, 0)\n",
      "0 4 (3, 0)\n",
      "0 6 (3, 0)\n",
      "-1 5 (3, 0)\n",
      "1 5 (3, 0)\n",
      "5\n",
      "0 6 (4, 0)\n",
      "0 5 (4, 0)\n",
      "0 7 (4, 0)\n",
      "-1 6 (4, 0)\n",
      "1 6 (4, 0)\n",
      "6\n",
      "0 7 (5, 0)\n",
      "0 6 (5, 0)\n",
      "0 8 (5, 0)\n",
      "-1 7 (5, 0)\n",
      "1 7 (5, 0)\n",
      "7\n",
      "1 0 (6, 0)\n",
      "1 -1 (6, 0)\n",
      "1 1 (6, 0)\n",
      "0 0 (6, 0)\n",
      "2 0 (6, 0)\n",
      "8\n",
      "1 1 (5, 0)\n",
      "1 0 (5, 0)\n",
      "1 2 (5, 0)\n",
      "0 1 (5, 0)\n",
      "2 1 (5, 0)\n",
      "9\n",
      "1 3 (5, 1)\n",
      "1 2 (5, 1)\n",
      "1 4 (5, 1)\n",
      "0 3 (5, 1)\n",
      "2 3 (5, 1)\n",
      "10\n",
      "1 4 (6, 1)\n",
      "1 3 (6, 1)\n",
      "1 5 (6, 1)\n",
      "0 4 (6, 1)\n",
      "2 4 (6, 1)\n",
      "11\n",
      "1 6 (6, 0)\n",
      "1 5 (6, 0)\n",
      "1 7 (6, 0)\n",
      "0 6 (6, 0)\n",
      "2 6 (6, 0)\n",
      "12\n",
      "1 7 (6, 1)\n",
      "1 6 (6, 1)\n",
      "1 8 (6, 1)\n",
      "0 7 (6, 1)\n",
      "2 7 (6, 1)\n",
      "13\n",
      "2 0 (6, 0)\n",
      "2 -1 (6, 0)\n",
      "2 1 (6, 0)\n",
      "1 0 (6, 0)\n",
      "3 0 (6, 0)\n",
      "14\n",
      "2 1 (5, 0)\n",
      "2 0 (5, 0)\n",
      "2 2 (5, 0)\n",
      "1 1 (5, 0)\n",
      "3 1 (5, 0)\n",
      "15\n",
      "2 3 (6, 0)\n",
      "2 2 (6, 0)\n",
      "2 4 (6, 0)\n",
      "1 3 (6, 0)\n",
      "3 3 (6, 0)\n",
      "16\n",
      "2 4 (5, 0)\n",
      "2 3 (5, 0)\n",
      "2 5 (5, 0)\n",
      "1 4 (5, 0)\n",
      "3 4 (5, 0)\n",
      "17\n",
      "3 0 (6, 0)\n",
      "3 -1 (6, 0)\n",
      "3 1 (6, 0)\n",
      "2 0 (6, 0)\n",
      "4 0 (6, 0)\n",
      "18\n",
      "3 1 (5, 0)\n",
      "3 0 (5, 0)\n",
      "3 2 (5, 0)\n",
      "2 1 (5, 0)\n",
      "4 1 (5, 0)\n",
      "19\n",
      "3 3 (6, 0)\n",
      "3 2 (6, 0)\n",
      "3 4 (6, 0)\n",
      "2 3 (6, 0)\n",
      "4 3 (6, 0)\n",
      "20\n",
      "3 4 (5, 0)\n",
      "3 3 (5, 0)\n",
      "3 5 (5, 0)\n",
      "2 4 (5, 0)\n",
      "4 4 (5, 0)\n",
      "21\n",
      "3 6 (4, 0)\n",
      "3 5 (4, 0)\n",
      "3 7 (4, 0)\n",
      "2 6 (4, 0)\n",
      "4 6 (4, 0)\n",
      "22\n",
      "3 7 (3, 0)\n",
      "3 6 (3, 0)\n",
      "3 8 (3, 0)\n",
      "2 7 (3, 0)\n",
      "4 7 (3, 0)\n",
      "23\n",
      "4 0 (3, 1)\n",
      "4 -1 (3, 1)\n",
      "4 1 (3, 1)\n",
      "3 0 (3, 1)\n",
      "5 0 (3, 1)\n",
      "24\n",
      "4 1 (3, 2)\n",
      "4 0 (3, 2)\n",
      "4 2 (3, 2)\n",
      "3 1 (3, 2)\n",
      "5 1 (3, 2)\n",
      "25\n",
      "4 2 (2, 2)\n",
      "4 1 (2, 2)\n",
      "4 3 (2, 2)\n",
      "3 2 (2, 2)\n",
      "5 2 (2, 2)\n",
      "26\n",
      "4 3 (3, 2)\n",
      "4 2 (3, 2)\n",
      "4 4 (3, 2)\n",
      "3 3 (3, 2)\n",
      "5 3 (3, 2)\n",
      "27\n",
      "4 4 (3, 1)\n",
      "4 3 (3, 1)\n",
      "4 5 (3, 1)\n",
      "3 4 (3, 1)\n",
      "5 4 (3, 1)\n",
      "28\n",
      "4 5 (3, 2)\n",
      "4 4 (3, 2)\n",
      "4 6 (3, 2)\n",
      "3 5 (3, 2)\n",
      "5 5 (3, 2)\n",
      "29\n",
      "4 6 (4, 2)\n",
      "4 5 (4, 2)\n",
      "4 7 (4, 2)\n",
      "3 6 (4, 2)\n",
      "5 6 (4, 2)\n",
      "30\n",
      "4 7 (5, 2)\n",
      "4 6 (5, 2)\n",
      "4 8 (5, 2)\n",
      "3 7 (5, 2)\n",
      "5 7 (5, 2)\n",
      "31\n",
      "5 0 (5, 3)\n",
      "5 -1 (5, 3)\n",
      "5 1 (5, 3)\n",
      "4 0 (5, 3)\n",
      "6 0 (5, 3)\n",
      "32\n",
      "5 7 (6, 3)\n",
      "5 6 (6, 3)\n",
      "5 8 (6, 3)\n",
      "4 7 (6, 3)\n",
      "6 7 (6, 3)\n",
      "33\n",
      "6 0 (5, 3)\n",
      "6 -1 (5, 3)\n",
      "6 1 (5, 3)\n",
      "5 0 (5, 3)\n",
      "7 0 (5, 3)\n",
      "34\n",
      "6 1 (5, 4)\n",
      "6 0 (5, 4)\n",
      "6 2 (5, 4)\n",
      "5 1 (5, 4)\n",
      "7 1 (5, 4)\n",
      "35\n",
      "6 2 (5, 5)\n",
      "6 1 (5, 5)\n",
      "6 3 (5, 5)\n",
      "5 2 (5, 5)\n",
      "7 2 (5, 5)\n",
      "36\n",
      "6 3 (5, 6)\n",
      "6 2 (5, 6)\n",
      "6 4 (5, 6)\n",
      "5 3 (5, 6)\n",
      "7 3 (5, 6)\n",
      "37\n",
      "6 5 (5, 7)\n",
      "6 4 (5, 7)\n",
      "6 6 (5, 7)\n",
      "5 5 (5, 7)\n",
      "7 5 (5, 7)\n",
      "38\n",
      "6 6 (5, 6)\n",
      "6 5 (5, 6)\n",
      "6 7 (5, 6)\n",
      "5 6 (5, 6)\n",
      "7 6 (5, 6)\n",
      "39\n",
      "6 7 (5, 7)\n",
      "6 6 (5, 7)\n",
      "6 8 (5, 7)\n",
      "5 7 (5, 7)\n",
      "MINOTAUR\n",
      "7 7 (5, 7)\n",
      "0 [   -1. -1000.    -1. -1000.    -1.]\n",
      "1 [   -1.    -1. -1000. -1000.    -1.]\n",
      "2 [   -1. -1000.    -1. -1000.    -1.]\n",
      "3 [   -1.    -1.    -1. -1000.    -1.]\n",
      "4 [   -1.    -1.    -1. -1000. -1000.]\n",
      "5 [   -1.    -1.    -1. -1000.    -1.]\n",
      "6 [   -1.    -1. -1000. -1000.    -1.]\n",
      "7 [   -1. -1000.    -1.    -1.    -1.]\n",
      "8 [   -1.    -1. -1000.    -1.    -1.]\n",
      "9 [   -1. -1000.    -1.    -1.    -1.]\n",
      "10 [   -1.    -1. -1000.    -1.    -1.]\n",
      "11 [   -1. -1000.    -1.    -1. -1000.]\n",
      "12 [   -1.    -1. -1000.    -1. -1000.]\n",
      "13 [   -1. -1000.    -1.    -1.    -1.]\n",
      "14 [   -1.    -1. -1000.    -1.    -1.]\n",
      "15 [   -1. -1000.    -1.    -1.    -1.]\n",
      "16 [   -1.    -1. -1000.    -1.    -1.]\n",
      "17 [   -1. -1000.    -1.    -1.    -1.]\n",
      "18 [   -1.    -1. -1000.    -1.    -1.]\n",
      "19 [   -1. -1000.    -1.    -1.    -1.]\n",
      "20 [   -1.    -1. -1000.    -1.    -1.]\n",
      "21 [   -1. -1000.    -1. -1000.    -1.]\n",
      "22 [   -1.    -1. -1000. -1000.    -1.]\n",
      "23 [   -1. -1000.    -1.    -1.    -1.]\n",
      "24 [   -1.    -1.    -1.    -1. -1000.]\n",
      "25 [   -1.    -1.    -1. -1000. -1000.]\n",
      "26 [   -1.    -1.    -1.    -1. -1000.]\n",
      "27 [   -1.    -1.    -1.    -1. -1000.]\n",
      "28 [   -1.    -1.    -1. -1000. -1000.]\n",
      "29 [   -1.    -1.    -1.    -1. -1000.]\n",
      "30 [   -1.    -1. -1000.    -1.    -1.]\n",
      "31 [   -1. -1000. -1000.    -1.    -1.]\n",
      "32 [   -1. -1000. -1000.    -1.    -1.]\n",
      "33 [   -1. -1000.    -1.    -1. -1000.]\n",
      "34 [   -1.    -1.    -1. -1000. -1000.]\n",
      "35 [   -1.    -1.    -1. -1000. -1000.]\n",
      "36 [   -1.    -1. -1000. -1000. -1000.]\n",
      "37 [    0. -1000.    -1. -1000. -1000.]\n",
      "38 [   -1.    -1.    -1. -1000. -1000.]\n",
      "39 [   -1.    -1. -1000. -1000. -1000.]\n"
     ]
    }
   ],
   "source": [
    "# Create an environment maze\n",
    "env = mz.Maze(maze)\n",
    "# env.show()"
   ]
  },
  {
   "cell_type": "markdown",
   "metadata": {},
   "source": [
    "##  Dynamic Programming \n",
    "\n",
    "Before solving the MDP problem, recall that the finite horizon objective function is \n",
    "$$\n",
    "    \\mathbb{E} \\Big[ \\sum_{t=0}^T r(s_t, a_t) \\Big],\n",
    "$$\n",
    "where $T$ is the horizon.\n",
    "Recall the Bellman equation \n",
    "\\begin{equation}\n",
    "\\forall s \\in \\mathcal{S} \\qquad  V(s) = \\max_{a \\in \\mathcal{A}} \\Big\\lbrace r(s,a) + \\sum_{s' \\in \\mathcal{S}} \\mathbb{P}(s'\\vert s,a) V(s') \\Big\\rbrace\n",
    "\\end{equation}\n",
    "The dynamic programming solution for the finite horizon MDP problem consists of solving the above backward recursion. The method `maze.dynamic_programming` achieves this. \n",
    "> **Note:** To find the optimal path, it is enough to set the time horizon $T = 10$. Indeed, looking at the maze one can see that the player needs at least 10 steps to attain the exit $B$, if her starting position is at $A$. In fact if you set the time horizon less than 10, you will see that you do not find the optimal path.\n",
    "\n"
   ]
  },
  {
   "cell_type": "code",
   "execution_count": 5,
   "metadata": {},
   "outputs": [],
   "source": [
    "# Finite horizon\n",
    "horizon = 20\n",
    "\n",
    "# minotaur_path = mz.minotaur.random_path(env,horizon)\n",
    "\n",
    "\n",
    "# Solve the MDP problem with dynamic programming\n",
    "V, policy= mz.dynamic_programming(env,horizon);\n"
   ]
  },
  {
   "cell_type": "code",
   "execution_count": 6,
   "metadata": {},
   "outputs": [
    {
     "name": "stdout",
     "output_type": "stream",
     "text": [
      "1 0 (5, 7)\n",
      "2 0 (5, 7)\n",
      "3 0 (5, 7)\n",
      "4 0 (5, 7)\n",
      "4 1 (5, 7)\n",
      "4 2 (5, 7)\n",
      "4 3 (5, 7)\n",
      "4 4 (5, 7)\n",
      "4 5 (5, 7)\n",
      "4 6 (5, 7)\n",
      "4 7 (5, 7)\n",
      "5 7 (5, 7)\n",
      "MINOTAUR\n",
      "5 7 (5, 7)\n",
      "MINOTAUR\n",
      "5 7 (5, 7)\n",
      "MINOTAUR\n",
      "5 7 (5, 7)\n",
      "MINOTAUR\n",
      "5 7 (5, 7)\n",
      "MINOTAUR\n",
      "5 7 (5, 7)\n",
      "MINOTAUR\n",
      "4 7 (5, 7)\n",
      "4 7 (5, 7)\n",
      "4 7 (5, 7)\n"
     ]
    }
   ],
   "source": [
    "# Simulate the shortest path starting from position A\n",
    "method = 'DynProg';\n",
    "start  = (0,0);\n",
    "path = env.simulate(start, policy, method);\n",
    "minotaur_path = env.minotaur_path;"
   ]
  },
  {
   "cell_type": "code",
   "execution_count": 7,
   "metadata": {},
   "outputs": [
    {
     "ename": "KeyboardInterrupt",
     "evalue": "",
     "output_type": "error",
     "traceback": [
      "\u001b[0;31m---------------------------------------------------------------------------\u001b[0m",
      "\u001b[0;31mKeyboardInterrupt\u001b[0m                         Traceback (most recent call last)",
      "\u001b[1;32m/Users/Pipo/Documents/KTH/Reinforcement Learning/lab1/problem1.ipynb Cell 12\u001b[0m line \u001b[0;36m2\n\u001b[1;32m      <a href='vscode-notebook-cell:/Users/Pipo/Documents/KTH/Reinforcement%20Learning/lab1/problem1.ipynb#X14sZmlsZQ%3D%3D?line=0'>1</a>\u001b[0m \u001b[39m# Show the shortest path \u001b[39;00m\n\u001b[0;32m----> <a href='vscode-notebook-cell:/Users/Pipo/Documents/KTH/Reinforcement%20Learning/lab1/problem1.ipynb#X14sZmlsZQ%3D%3D?line=1'>2</a>\u001b[0m mz\u001b[39m.\u001b[39;49manimate_solution(maze, path, minotaur_path)\n",
      "File \u001b[0;32m~/Documents/KTH/Reinforcement Learning/lab1/maze.py:514\u001b[0m, in \u001b[0;36manimate_solution\u001b[0;34m(maze, path, minotaur_path)\u001b[0m\n\u001b[1;32m    512\u001b[0m display\u001b[39m.\u001b[39mdisplay(fig)\n\u001b[1;32m    513\u001b[0m display\u001b[39m.\u001b[39mclear_output(wait\u001b[39m=\u001b[39m\u001b[39mTrue\u001b[39;00m)\n\u001b[0;32m--> 514\u001b[0m time\u001b[39m.\u001b[39;49msleep(\u001b[39m1\u001b[39;49m)\n",
      "\u001b[0;31mKeyboardInterrupt\u001b[0m: "
     ]
    },
    {
     "data": {
      "image/png": "[encoded data removed]",
      "text/plain": [
       "<Figure size 800x700 with 1 Axes>"
      ]
     },
     "metadata": {},
     "output_type": "display_data"
    }
   ],
   "source": [
    "# Show the shortest path \n",
    "mz.animate_solution(maze, path, minotaur_path)"
   ]
  },
  {
   "cell_type": "markdown",
   "metadata": {},
   "source": [
    "## Value Iteration\n",
    "\n",
    "Here we solve the discounted infinite-horizon MDP problem using value iteration, the objective here is to find a stationary policy $\\pi$ that minimizes the infinite horizon objective with a discount factor $\\gamma$ \n",
    "$$\n",
    "    \\mathbb{E} \\Big[\\sum_{t=0}^\\infty \\gamma^t r\\big(s_t, \\pi(s_t)\\big) \\Big].\n",
    "$$\n",
    "Recall the Bellman equation in the case of a stationary policy $\\pi$ \n",
    "\\begin{equation}\n",
    "\\forall s \\in \\mathcal{S} \\qquad  V^*(s) = \\max_{\\pi} \\Big\\lbrace r(s,\\pi(s)) + \\gamma \\sum_{s' \\in \\mathcal{S}} \\mathbb{P}(s'\\vert s,\\pi(s)) V^*(s') \\Big\\rbrace\n",
    "\\end{equation}\n",
    "or equivalently in terms of the Bellman operator $\\mathcal{L}$ \n",
    "\\begin{equation}\n",
    "V^* =  \\mathcal{L}(V^*)\n",
    "\\end{equation}\n",
    "where \n",
    "\\begin{equation}\n",
    "   \\forall s \\in \\mathcal{S} \\qquad  \\mathcal{L}(V)(s) = \\max_{\\pi} \\Big\\lbrace r(s,\\pi(s)) + \\gamma \\sum_{s' \\in \\mathcal{S}} \\mathbb{P}(s'\\vert s,\\pi(s)) V(s') \\Big\\rbrace. \n",
    "\\end{equation}\n",
    "Value iteration solves the Bellman equation described above. This method is implemented as `maze.value_iteration` in the file [maze.py]().\n",
    "\n",
    "> **Note:** Recall that the mapping $\\mathcal{L}$ is a contraction, therefore value iteration converges. To achieve an $\\varepsilon>0$ approximation (i.e. $\\Vert V^* - V_{n+1} \\Vert \\le \\varepsilon$),\n",
    " the stopping criterion of value iteration is $\\Vert V - \\mathcal{L}(V) \\Vert < \\frac{1-\\gamma}{\\gamma}\\varepsilon$."
   ]
  },
  {
   "cell_type": "code",
   "execution_count": null,
   "metadata": {},
   "outputs": [],
   "source": [
    "# Discount Factor \n",
    "gamma   = 0.95; \n",
    "# Accuracy treshold \n",
    "epsilon = 0.0001;\n",
    "V, policy = mz.value_iteration(env, gamma, epsilon)"
   ]
  },
  {
   "cell_type": "code",
   "execution_count": null,
   "metadata": {},
   "outputs": [
    {
     "name": "stdout",
     "output_type": "stream",
     "text": [
      "0 0 (3, 6)\n"
     ]
    }
   ],
   "source": [
    "method = 'ValIter';\n",
    "start  = (0,0);\n",
    "path = env.simulate(start, policy, method)"
   ]
  },
  {
   "cell_type": "code",
   "execution_count": null,
   "metadata": {},
   "outputs": [
    {
     "ename": "TypeError",
     "evalue": "animate_solution() missing 1 required positional argument: 'minotaur_path'",
     "output_type": "error",
     "traceback": [
      "\u001b[0;31m---------------------------------------------------------------------------\u001b[0m",
      "\u001b[0;31mTypeError\u001b[0m                                 Traceback (most recent call last)",
      "\u001b[1;32m/Users/Pipo/Documents/KTH/Reinforcement Learning/lab1/problem1.ipynb Cell 16\u001b[0m line \u001b[0;36m2\n\u001b[1;32m      <a href='vscode-notebook-cell:/Users/Pipo/Documents/KTH/Reinforcement%20Learning/lab1/problem1.ipynb#X21sZmlsZQ%3D%3D?line=0'>1</a>\u001b[0m \u001b[39m# Show the shortest path \u001b[39;00m\n\u001b[0;32m----> <a href='vscode-notebook-cell:/Users/Pipo/Documents/KTH/Reinforcement%20Learning/lab1/problem1.ipynb#X21sZmlsZQ%3D%3D?line=1'>2</a>\u001b[0m mz\u001b[39m.\u001b[39;49manimate_solution(maze, path)\n",
      "\u001b[0;31mTypeError\u001b[0m: animate_solution() missing 1 required positional argument: 'minotaur_path'"
     ]
    }
   ],
   "source": [
    "# Show the shortest path \n",
    "mz.animate_solution(maze, path)"
   ]
  },
  {
   "cell_type": "markdown",
   "metadata": {},
   "source": [
    "## Random rewards \n",
    "\n",
    "### The new MDP formulation \n",
    "As stated in the problem statement, we only modify the rewards $\\mathcal{R}$ to be random. In fact we will only need to modify the rewards corresponding to the state action pair $(s,a)$ that lead to either the cell R1 or R2.\n",
    "#### Rewards $\\mathcal{R}$\n",
    "The objective of the player is to find the exit of the maze while avoiding the obstacles.    \n",
    "   - If at state $s$, taking action $a$, leads to the cell R1 then the reward is random according to the following     $$ R(s,a) = \\begin{cases}\n",
    "            -7 \\quad \\textrm{ w.p. } 0.5 \\\\\n",
    "            -1 \\quad \\textrm{ w.p. } 0.5\n",
    "            \\end{cases} \n",
    "     $$\n",
    "   - If at state $s$, taking action $a$, leads to the cell R2 then the reward is random according to the following \n",
    "     $$ R(s,a) = \\begin{cases}\n",
    "            -2 \\quad \\textrm{ w.p. } 0.5 \\\\\n",
    "            -1 \\quad \\textrm{ w.p. } 0.5\n",
    "            \\end{cases} \n",
    "     $$\n",
    "   - The remaining rewards remain deterministic and with the same values as in the previous formulation.\n",
    "\n",
    "> **Note**: The fact that you stay in a cell for a number of rounds $n$ means that you are forced to incur the reward of ending up in that state for an additional $n$ times. Thus, instead of modifying the transition probabilities, we can modify the reward of ending up at that round by multiplying it by $n + 1$.  \n",
    "\n",
    "### Solving the new MDP \n",
    "As mentioned in the appendix [random_rewards.pdf]() (see in canvas), when solving the problem we will only have to look at the average rewards instead of the realization of the rewards, and the methods implemented for the previous case remain unchanged.  \n",
    "\n",
    "> **Note**: In the implementation, the only change will be the rewards. In addition, the policies we obtain remain deterministic. However, when running a policy the accumulated reward is random, but its average over multiple repetitions should converge to the value function. "
   ]
  },
  {
   "cell_type": "code",
   "execution_count": null,
   "metadata": {
    "scrolled": true
   },
   "outputs": [],
   "source": [
    "# Description of the maze as a numpy array\n",
    "maze = np.array([\n",
    "    [ 0, 0, 1, 0, 0, 0,  0],\n",
    "    [ 0, 0, 1, 0, 0, 0,  0],\n",
    "    [ 0, 0, 1, 0, 0, 0,  0],\n",
    "    [ 0, 0, 0, 0, 0, 0, -1],\n",
    "    [ 0, 1, 1, 1, 1, 1,  0],\n",
    "    [-6, 0, 0, 0, 0, 2,  0]\n",
    "])\n",
    "# with the convention \n",
    "#  0 = empty cell\n",
    "#  1 = obstacle\n",
    "#  2 = exit of the Maze\n",
    "# -n = trapped cell with probability 0.5. If the cell is trapped the player must stay there for n times.  "
   ]
  },
  {
   "cell_type": "code",
   "execution_count": null,
   "metadata": {},
   "outputs": [
    {
     "data": {
      "image/png": "[encoded data removed]",
      "text/plain": [
       "<Figure size 504x432 with 1 Axes>"
      ]
     },
     "metadata": {},
     "output_type": "display_data"
    }
   ],
   "source": [
    "mz.draw_maze(maze);"
   ]
  },
  {
   "cell_type": "markdown",
   "metadata": {},
   "source": [
    "### Dynamic programming \n",
    "\n",
    "Run the following python code to obtain the optimal solution of the newly formulated MDP with dynamic programming. "
   ]
  },
  {
   "cell_type": "code",
   "execution_count": null,
   "metadata": {},
   "outputs": [],
   "source": [
    "# Create an environment maze\n",
    "env = mz.Maze(maze, random_rewards=True)\n",
    "# env.show()"
   ]
  },
  {
   "cell_type": "code",
   "execution_count": null,
   "metadata": {},
   "outputs": [
    {
     "data": {
      "image/png": "[encoded data removed]",
      "text/plain": [
       "<Figure size 504x432 with 1 Axes>"
      ]
     },
     "metadata": {},
     "output_type": "display_data"
    }
   ],
   "source": [
    "# Finite horizon\n",
    "horizon = 15\n",
    "# Solve the MDP problem with dynamic programming \n",
    "V, policy= mz.dynamic_programming(env,horizon);\n",
    "# Simulate the shortest path starting from position A\n",
    "method = 'DynProg';\n",
    "start  = (0,0);\n",
    "path = env.simulate(start, policy, method);\n",
    "# Show the shortest path \n",
    "mz.animate_solution(maze, path)"
   ]
  },
  {
   "cell_type": "markdown",
   "metadata": {},
   "source": [
    "> **Note:** The animation does not illustrate the event where the player is trapped as it assumes average rewards. Nonetheless, the shown policy is the optimal one.     "
   ]
  },
  {
   "cell_type": "markdown",
   "metadata": {},
   "source": [
    "### Value iteration  \n",
    "\n",
    "Run the following python code to obtain the optimal solution of the newly formulated MDP with value iteration."
   ]
  },
  {
   "cell_type": "code",
   "execution_count": null,
   "metadata": {},
   "outputs": [
    {
     "data": {
      "image/png": "[encoded data removed]",
      "text/plain": [
       "<Figure size 504x432 with 1 Axes>"
      ]
     },
     "metadata": {},
     "output_type": "display_data"
    }
   ],
   "source": [
    "# Discount Factor \n",
    "gamma   = 0.95; \n",
    "# Accuracy treshold \n",
    "epsilon = 0.0001;\n",
    "V, policy = mz.value_iteration(env, gamma, epsilon)\n",
    "\n",
    "method = 'ValIter';\n",
    "start  = (0,0);\n",
    "path = env.simulate(start, policy, method)\n",
    "# Show the shortest path \n",
    "mz.animate_solution(maze, path)"
   ]
  },
  {
   "cell_type": "markdown",
   "metadata": {},
   "source": [
    "# Problem 2 : Plucking berries"
   ]
  },
  {
   "cell_type": "markdown",
   "metadata": {},
   "source": [
    "### The new MDP formulation \n",
    "\n",
    "In this problem, the introduction of weights is translated in our previous MDP formulation by a modification of the rewards $\\mathcal{R}$. This is done by simply setting $r(s,a)$ to $w_{ij}$ if being in state $s$ and taking action $a$ leads to being in th new state $s'=(i,j)$. "
   ]
  },
  {
   "cell_type": "code",
   "execution_count": null,
   "metadata": {},
   "outputs": [],
   "source": [
    "# Description of the maze as a numpy array\n",
    "maze = np.array([\n",
    "    [ 0, 0, 1, 0, 0, 0,  0],\n",
    "    [ 0, 0, 1, 0, 0, 0,  0],\n",
    "    [ 0, 0, 1, 0, 0, 0,  0],\n",
    "    [ 0, 0, 0, 0, 0, 0,  0],\n",
    "    [ 0, 1, 1, 1, 1, 1,  0],\n",
    "    [ 0, 0, 0, 0, 0, 2,  0]\n",
    "])\n",
    "\n",
    "# Description of the weight matrix as a numpy array\n",
    "w = np.array([\n",
    "    [0,    1, -100,   10,   10,   10, 10],\n",
    "    [0,    1, -100,   10,    0,    0, 10],\n",
    "    [0,    1, -100,   10,    0,    0, 10],\n",
    "    [0,    1,    1,    1,    0,    0, 10],\n",
    "    [0, -100, -100, -100, -100, -100, 10],\n",
    "    [0,    0,    0,    0,    0,   11, 10]\n",
    "])"
   ]
  },
  {
   "cell_type": "code",
   "execution_count": null,
   "metadata": {},
   "outputs": [],
   "source": [
    "# Create an environment maze\n",
    "env = mz.Maze(maze, weights=w)\n",
    "# env.show()"
   ]
  },
  {
   "cell_type": "markdown",
   "metadata": {},
   "source": [
    "### Dynamic programming \n",
    "\n",
    "Run the following python code to obtain the optimal solution of the newly formulated MDP with dynamic programming."
   ]
  },
  {
   "cell_type": "code",
   "execution_count": null,
   "metadata": {},
   "outputs": [
    {
     "data": {
      "image/png": "[encoded data removed]",
      "text/plain": [
       "<Figure size 504x432 with 1 Axes>"
      ]
     },
     "metadata": {},
     "output_type": "display_data"
    }
   ],
   "source": [
    "# Finite horizon\n",
    "horizon = 20\n",
    "# Solve the MDP problem with dynamic programming \n",
    "V, policy= mz.dynamic_programming(env,horizon);\n",
    "# Simulate the shortest path starting from position A\n",
    "method = 'DynProg';\n",
    "start  = (0,0);\n",
    "path = env.simulate(start, policy, method);\n",
    "# Show the shortest path \n",
    "mz.animate_solution(maze, path)"
   ]
  },
  {
   "cell_type": "markdown",
   "metadata": {},
   "source": [
    "> **Note:** By changing the horizon from $20$ to $12$ you should observe that the optimal policy changes.  "
   ]
  },
  {
   "cell_type": "markdown",
   "metadata": {},
   "source": [
    "### Value iteration  \n",
    "\n",
    "Run the following python code to obtain the optimal solution of the newly formulated MDP with value iteration."
   ]
  },
  {
   "cell_type": "code",
   "execution_count": null,
   "metadata": {},
   "outputs": [
    {
     "data": {
      "image/png": "[encoded data removed]",
      "text/plain": [
       "<Figure size 504x432 with 1 Axes>"
      ]
     },
     "metadata": {},
     "output_type": "display_data"
    }
   ],
   "source": [
    "# Discount Factor \n",
    "gamma   = 0.50; \n",
    "# Accuracy treshold \n",
    "epsilon = 0.001;\n",
    "V, policy = mz.value_iteration(env, gamma, epsilon)\n",
    "method = 'ValIter';\n",
    "start  = (0,0);\n",
    "path = env.simulate(start, policy, method)\n",
    "# Show the shortest path \n",
    "mz.animate_solution(maze, path)"
   ]
  }
 ],
 "metadata": {
  "@webio": {
   "lastCommId": null,
   "lastKernelId": null
  },
  "kernelspec": {
   "display_name": "Python 3",
   "language": "python",
   "name": "python3"
  },
  "language_info": {
   "codemirror_mode": {
    "name": "ipython",
    "version": 3
   },
   "file_extension": ".py",
   "mimetype": "text/x-python",
   "name": "python",
   "nbconvert_exporter": "python",
   "pygments_lexer": "ipython3",
   "version": "3.10.0"
  }
 },
 "nbformat": 4,
 "nbformat_minor": 2
}
