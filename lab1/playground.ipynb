{
 "cells": [
  {
   "cell_type": "code",
   "execution_count": 2,
   "metadata": {},
   "outputs": [],
   "source": [
    "import numpy as np\n",
    "import random"
   ]
  },
  {
   "cell_type": "code",
   "execution_count": 25,
   "metadata": {},
   "outputs": [
    {
     "data": {
      "text/plain": [
       "47.1086"
      ]
     },
     "execution_count": 25,
     "metadata": {},
     "output_type": "execute_result"
    }
   ],
   "source": [
    "t_death = []\n",
    "\n",
    "for i in range(10000):\n",
    "    t = 1\n",
    "    death = 50\n",
    "    while t < 200:\n",
    "        # if np.random.random() <= 1/50:\n",
    "        if random.randint(1,50) == 1:\n",
    "            death = t\n",
    "            break\n",
    "        t += 1\n",
    "    t_death.append(death)\n",
    "\n",
    "np.mean(t_death)\n",
    "# print(t_death)\n"
   ]
  },
  {
   "cell_type": "code",
   "execution_count": null,
   "metadata": {},
   "outputs": [],
   "source": [
    "import numpy as np\n",
    "\n",
    "# Given initial point\n",
    "# initial_point = np.array([2, 2])\n",
    "\n",
    "# Given points to compare\n",
    "points = [(2,2, 4, 5), (2,2, 4, 3), (2,2, 3, 4), (2,2, 5, 4)]\n",
    "print()\n",
    "print(np.linalg.norm(np.array(points[:][2:4])-np.array(points[:][:2]),axis=-))\n",
    "# Calculate distances\n",
    "distances = np.linalg.norm(points[:,2:4] - points[:,:2], axis=1)\n",
    "\n",
    "# Find the closest point\n",
    "closest_point_index = np.argmin(distances)\n",
    "print(points[closest_point_index])\n",
    "closest_point = points[closest_point_index]\n",
    "\n",
    "min_distance = distances[closest_point_index]\n",
    "\n",
    "print(f\"The closest point to {points[0,:2]} is {closest_point[2:4]} with a distance of {min_distance:.2f}\")\n",
    "\n",
    "for i, next_s in enumerate(points):\n",
    "    if i == closest_point_index:\n",
    "        print(\"30%\",next_s)\n",
    "    else:\n",
    "        print((1/(len(points)-1))*0.7*100,\"%\",next_s)\n",
    "# print(np.append(points[:closest_point_index],points[closest_point_index+1:]).reshape(-1,4))\n"
   ]
  }
 ],
 "metadata": {
  "kernelspec": {
   "display_name": "rl",
   "language": "python",
   "name": "python3"
  },
  "language_info": {
   "codemirror_mode": {
    "name": "ipython",
    "version": 3
   },
   "file_extension": ".py",
   "mimetype": "text/x-python",
   "name": "python",
   "nbconvert_exporter": "python",
   "pygments_lexer": "ipython3",
   "version": "3.10.0"
  }
 },
 "nbformat": 4,
 "nbformat_minor": 2
}
