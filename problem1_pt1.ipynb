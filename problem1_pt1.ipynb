{
 "cells": [
  {
   "cell_type": "code",
   "execution_count": 1,
   "metadata": {},
   "outputs": [],
   "source": [
    "import numpy as np\n",
    "from matplotlib import pyplot as plt"
   ]
  },
  {
   "cell_type": "code",
   "execution_count": 2,
   "metadata": {},
   "outputs": [],
   "source": [
    "MINOTAUR_CAN_STAY = False\n",
    "\n",
    "\"\"\" underlying map -- cant move oob or itw \"\"\"\n",
    "_w = -10000\n",
    "_g = 0\n",
    "_f = -1\n",
    "m = np.array([\n",
    "    [ _f, _f, _w, _f, _f, _f, _f, _f, ],\n",
    "    [ _f, _f, _w, _f, _f, _w, _f, _f, ],\n",
    "    [ _f, _f, _w, _f, _f, _w, _w, _w, ],\n",
    "    [ _f, _f, _w, _f, _f, _w, _f, _f, ],\n",
    "    [ _f, _f, _f, _f, _f, _f, _f, _f, ],\n",
    "    [ _f, _w, _w, _w, _w, _w, _w, _f, ],\n",
    "    [ _f, _f, _f, _f, _w, _g, _f, _f, ],\n",
    "]).T\n",
    "w = m == _w\n",
    "nw = m != _w\n",
    "g = m == _g\n",
    "ng = m != _g\n",
    "f = m == _f\n",
    "nf = m != _f\n",
    "\n",
    "\"\"\" states, actions \"\"\"\n",
    "W = 8\n",
    "H = 7\n",
    "S = W*H*W*H\n",
    "A = 5\n",
    "UP, DOWN, LEFT, RIGHT, STAY = 0, 1, 2, 3, 4\n",
    "\n",
    "\"\"\" utilities \"\"\"\n",
    "p_x_c = np.arange(W).reshape((W, 1, 1, 1, 1, 1, 1, 1, 1))\n",
    "p_y_c = np.arange(H).reshape((1, H, 1, 1, 1, 1, 1, 1, 1))\n",
    "m_x_c = np.arange(W).reshape((1, 1, W, 1, 1, 1, 1, 1, 1))\n",
    "m_y_c = np.arange(H).reshape((1, 1, 1, H, 1, 1, 1, 1, 1))\n",
    "a_c   = np.arange(A).reshape((1, 1, 1, 1, A, 1, 1, 1, 1))\n",
    "p_x_n = np.arange(W).reshape((1, 1, 1, 1, 1, W, 1, 1, 1))\n",
    "p_y_n = np.arange(H).reshape((1, 1, 1, 1, 1, 1, H, 1, 1))\n",
    "m_x_n = np.arange(W).reshape((1, 1, 1, 1, 1, 1, 1, W, 1))\n",
    "m_y_n = np.arange(H).reshape((1, 1, 1, 1, 1, 1, 1, 1, H))\n",
    "\n",
    "\"\"\" Probability of player movements given actions (1 if feasible) \"\"\"\n",
    "P_p = np.zeros((W, H, A, W, H))\n",
    "P_p[p_x_c, p_y_c, UP, p_x_n, p_y_n]    = (p_x_c == p_x_n) * (p_y_c - 1 == p_y_n) * nw[p_x_n, p_y_n]\n",
    "P_p[p_x_c, p_y_c, DOWN, p_x_n, p_y_n]  = (p_x_c == p_x_n) * (p_y_c + 1 == p_y_n) * nw[p_x_n, p_y_n]\n",
    "P_p[p_x_c, p_y_c, LEFT, p_x_n, p_y_n]  = (p_x_c + 1 == p_x_n) * (p_y_c == p_y_n) * nw[p_x_n, p_y_n]\n",
    "P_p[p_x_c, p_y_c, RIGHT, p_x_n, p_y_n] = (p_x_c - 1 == p_x_n) * (p_y_c == p_y_n) * nw[p_x_n, p_y_n]\n",
    "P_p[p_x_c, p_y_c, STAY, p_x_n, p_y_n]  = (p_x_c == p_x_n) * (p_y_c == p_y_n)\n",
    "\n",
    "\"\"\" Probability of minotaur movements (1 over amount of feasible actions)\"\"\"\n",
    "_P_m = np.zeros((W, H, A, W, H))\n",
    "_P_m[m_x_c, m_y_c, UP, m_x_n, m_y_n]    = (m_x_c == m_x_n) * (m_y_c - 1 == m_y_n)\n",
    "_P_m[m_x_c, m_y_c, DOWN, m_x_n, m_y_n]  = (m_x_c == m_x_n) * (m_y_c + 1 == m_y_n)\n",
    "_P_m[m_x_c, m_y_c, LEFT, m_x_n, m_y_n]  = (m_x_c + 1 == m_x_n) * (m_y_c == m_y_n)\n",
    "_P_m[m_x_c, m_y_c, RIGHT, m_x_n, m_y_n] = (m_x_c - 1 == m_x_n) * (m_y_c == m_y_n)\n",
    "if MINOTAUR_CAN_STAY:\n",
    "    _P_m[m_x_c, m_y_c, STAY, m_x_n, m_y_n] = (m_x_c == m_x_n) * (m_y_c == m_y_n)\n",
    "P_m = np.sum(_P_m, axis=2)\n",
    "P_m = P_m / np.maximum(np.sum(P_m, axis=(2,3), keepdims=True), 1)\n",
    "\n",
    "\"\"\"\n",
    "    a)\n",
    "If we move simultaneously, then we may switch places with the minotaur without losing.\n",
    "We of course still lose if we choose to move onto it.\n",
    "\"\"\"\n",
    "SIMULTANEOUS = True\n",
    "if SIMULTANEOUS:\n",
    "    \"\"\" make probability \"\"\"\n",
    "    # P(p_t,m_t,a_t,p_t+1,m_t+1) = P_p(p_t,a_t,p_t+1) * P_m(m_t,m_t+1)\n",
    "    P = P_p[p_x_c, p_y_c, a_c, p_x_n, p_y_n] * P_m[m_x_c, m_y_c, m_x_n, m_y_n]\n",
    "    # minotaur may catch\n",
    "    P[p_x_c, p_y_c, p_x_c, p_y_c, :, :, :, :, :] = 0\n",
    "    P[p_x_c, p_y_c, p_x_c, p_y_c, :, p_x_c, p_y_c, p_x_c, p_y_c] = 1\n",
    "\n",
    "    \"\"\" make reward \"\"\"\n",
    "    R = np.zeros((W, H, W, H, A))\n",
    "    # R = -1 if p_{t+1} != goal\n",
    "    R[p_x_c, p_y_c, m_x_c, m_y_c, a_c] = -1 * (0.5 > g[p_x_n, p_y_n] * (p_x_n != m_x_n) * (p_y_n != m_y_n)).reshape((W, H, W, H, 1, 1, 1, 1, 1)) * np.ones((1, 1, 1, 1, A, 1, 1, 1, 1))\n",
    "\n",
    "\"\"\"\n",
    "    b)\n",
    "If we move sequentially, we say that the minotaur can catch us in our current location as well, if we let it move first.\n",
    "We of course still lose if we choose to move onto it.\n",
    "Everything else is the same\n",
    "\"\"\" \n",
    "# I had this written down\n",
    "\n",
    "\"\"\" flatten to move to state space \"\"\"\n",
    "P = P.reshape((S, A, S))\n",
    "R = R.reshape((S, A))\n",
    "s0 = np.arange((W*H*W*H)).reshape((W, H, W, H))[0, 0, 5, 6]"
   ]
  },
  {
   "cell_type": "code",
   "execution_count": 3,
   "metadata": {},
   "outputs": [],
   "source": [
    "# let unused/inaccessible states self-loop\n",
    "is_zero = (np.sum(P, axis=2) == 0)\n",
    "for s, a in zip(*np.where(is_zero)):\n",
    "    P[s, a, s] = 1\n",
    "\n",
    "# we now prove that it is a markov decision process\n",
    "assert np.allclose(np.sum(P, axis=2), 1)"
   ]
  },
  {
   "cell_type": "code",
   "execution_count": 4,
   "metadata": {},
   "outputs": [
    {
     "name": "stdout",
     "output_type": "stream",
     "text": [
      "False\n"
     ]
    },
    {
     "data": {
      "image/png": "[encoded data removed]",
      "text/plain": [
       "<Figure size 640x480 with 1 Axes>"
      ]
     },
     "metadata": {},
     "output_type": "display_data"
    },
    {
     "data": {
      "text/plain": [
       "<matplotlib.image.AxesImage at 0x7f91b9f13250>"
      ]
     },
     "execution_count": 4,
     "metadata": {},
     "output_type": "execute_result"
    },
    {
     "data": {
      "image/png": "[encoded data removed]",
      "text/plain": [
       "<Figure size 640x480 with 1 Axes>"
      ]
     },
     "metadata": {},
     "output_type": "display_data"
    }
   ],
   "source": [
    "\"\"\"\n",
    "    c)\n",
    "We solve the dynamics programming problem by iterating backwards in time, with T=20.\n",
    "We instrumentalize the simulation with maps keeping track of us and the minotaur\n",
    "\"\"\"\n",
    "T = 20\n",
    "def DP(\n",
    "        T: int, # horizon\n",
    "    ) -> (\n",
    "        np.ndarray((T+1, S)), # value\n",
    "        np.ndarray((T, S)), # policy\n",
    "    ):\n",
    "    value = np.zeros((T+1, S))\n",
    "    policy = np.zeros((T, S), dtype=np.int32)\n",
    "\n",
    "    for t in range(T-1,-1,-1):\n",
    "        Q = R + P @ value[t+1]\n",
    "        value[t] = np.max(Q, axis=1)\n",
    "        policy[t] = np.argmax(Q, axis=1)\n",
    "    return value, policy\n",
    "\n",
    "def simulate_DP(\n",
    "        T: int, # horizon\n",
    "        policy: np.ndarray((T, S)),\n",
    "    ) -> (\n",
    "        bool, # did escape\n",
    "        np.ndarray((W,H)), # time of every player position\n",
    "        np.ndarray((W,H)), # time of every minotaur position\n",
    "    ):\n",
    "    s = s0\n",
    "    map_p = np.zeros((W,H))\n",
    "    map_m = np.zeros((W,H))\n",
    "    p_x, p_y, m_x, m_y = np.unravel_index(s, (W, H, W, H))\n",
    "    map_p[p_x, p_y] = 1\n",
    "    map_m[m_x, m_y] = 1\n",
    "\n",
    "    for t in range(T):\n",
    "        p = P[s, policy[t, s]] # probabilities of possible next states\n",
    "\n",
    "        s = np.random.choice(np.arange(S), p=p) # select next state\n",
    "        p_x, p_y, m_x, m_y = np.unravel_index(s, (W, H, W, H))\n",
    "        map_p[p_x, p_y] = t + 1\n",
    "        map_m[m_x, m_y] = t + 1\n",
    "\n",
    "    return (g[p_x, p_y] and ng[m_x, m_y]), map_p, map_m\n",
    "\n",
    "def VI(\n",
    "        gamma: float, # discount factor\n",
    "    ) -> (\n",
    "        np.ndarray((S,)), # value\n",
    "        np.ndarray((S,)), # policy\n",
    "    ):\n",
    "    value = np.zeros((S,))\n",
    "    policy = np.zeros((S,), dtype=np.int32)\n",
    "\n",
    "    for _ in range(100):\n",
    "        Q = R + gamma * P @ value\n",
    "        value = np.max(Q, axis=1)\n",
    "    policy = np.argmax(Q, axis=1)\n",
    "    return value, policy\n",
    "\n",
    "def simulate_VI(\n",
    "        policy: np.ndarray((S,)),\n",
    "        p_end: float = 0,\n",
    "    ) -> (\n",
    "        bool, # did escape\n",
    "        np.ndarray((W,H)), # time of every player position\n",
    "        np.ndarray((W,H)), # time of every minotaur position\n",
    "    ):\n",
    "    t = 1\n",
    "    s = s0\n",
    "    map_p = np.zeros((W,H))\n",
    "    map_m = np.zeros((W,H))\n",
    "    p_x, p_y, m_x, m_y = np.unravel_index(s, (W, H, W, H))\n",
    "    map_p[p_x, p_y] = t\n",
    "    map_m[m_x, m_y] = t\n",
    "\n",
    "    while True:\n",
    "        p = P[s, policy[s]] # probabilities of possible next states\n",
    "\n",
    "        s = np.random.choice(np.arange(S), p=p) # select next state\n",
    "        t += 1\n",
    "        p_x, p_y, m_x, m_y = np.unravel_index(s, (W, H, W, H))\n",
    "        map_p[p_x, p_y] = t\n",
    "        map_m[m_x, m_y] = t\n",
    "\n",
    "        if (p_x, p_y) == (m_x, m_y):\n",
    "            return False, map_p, map_m\n",
    "        if g[p_x, p_y] and ng[m_x, m_y]:\n",
    "            return True, map_p, map_m\n",
    "        if np.random.uniform() < p_end:\n",
    "            return False, map_p, map_m\n",
    "\n",
    "    return (g[p_x, p_y] and ng[m_x, m_y]), map_p, map_m\n",
    "\n",
    "T = 20\n",
    "value, policy = DP(T)\n",
    "escaped, map_p, map_m = simulate_DP(T, policy)\n",
    "print(escaped)\n",
    "\n",
    "plt.imshow(np.ones((H, W)), alpha=w.T.astype(np.float32), cmap='gray')\n",
    "plt.imshow(map_m.T, alpha=(map_m > 0).T.astype(np.float32))\n",
    "plt.show()\n",
    "plt.imshow(np.ones((H, W)), alpha=w.T.astype(np.float32), cmap='gray')\n",
    "plt.imshow(map_p.T, alpha=(map_p > 0).T.astype(np.float32))"
   ]
  },
  {
   "cell_type": "code",
   "execution_count": 5,
   "metadata": {},
   "outputs": [
    {
     "name": "stdout",
     "output_type": "stream",
     "text": [
      "1 0.0\n",
      "2 0.0\n",
      "3 0.0\n",
      "4 0.0\n",
      "5 0.0\n",
      "6 0.0\n",
      "7 0.0\n",
      "8 0.0\n",
      "9 0.0\n",
      "10 0.0\n",
      "11 0.0\n",
      "12 0.0\n",
      "13 0.0\n",
      "14 0.0\n",
      "15 0.0\n",
      "16 0.6962946050472246\n",
      "17 0.7413494224251669\n",
      "18 0.7501176877425408\n",
      "19 0.7776521753802751\n",
      "20 0.8048425666702466\n",
      "21 0.8201343427704757\n",
      "22 0.8348304548204915\n",
      "23 0.8459295276462737\n",
      "24 0.8506333778097004\n",
      "25 0.8526797360944404\n",
      "26 0.8535771139630648\n",
      "27 0.8537830496920106\n",
      "28 0.8549826463493271\n",
      "29 0.8560031029300754\n"
     ]
    }
   ],
   "source": [
    "\"\"\"\n",
    "    d)\n",
    "it appears that the minotaur is always unable to catch us\n",
    "\"\"\"\n",
    "s_c = np.arange((S)).reshape((-1, 1))\n",
    "s_n = np.arange((S)).reshape((1, -1))\n",
    "p_x_c = np.arange(W).reshape((-1, 1, 1, 1))\n",
    "p_y_c = np.arange(H).reshape((1, -1, 1, 1))\n",
    "m_x_c = np.arange(W).reshape((1, 1, -1, 1))\n",
    "m_y_c = np.arange(H).reshape((1, 1, 1, -1))\n",
    "\n",
    "prob = np.zeros((30, S))\n",
    "Pi = np.zeros((30,))\n",
    "for T in range(1,30):\n",
    "    value, policy = DP(T)\n",
    "    prob[T, s0] = 1\n",
    "\n",
    "    for t in range(T):\n",
    "        prob[T] = prob[T] @ P[s_c, policy[t, s_c], s_n]\n",
    "    pi = np.sum(prob[T].reshape((W, H, W, H)), axis=(2,3))\n",
    "    Pi[T] = pi[5, 6]\n",
    "    print(T, pi[5, 6])\n",
    "T = 30"
   ]
  },
  {
   "cell_type": "code",
   "execution_count": 6,
   "metadata": {},
   "outputs": [
    {
     "data": {
      "text/plain": [
       "[<matplotlib.lines.Line2D at 0x7f91a07bf280>]"
      ]
     },
     "execution_count": 6,
     "metadata": {},
     "output_type": "execute_result"
    },
    {
     "data": {
      "image/png": "[encoded data removed]",
      "text/plain": [
       "<Figure size 640x480 with 1 Axes>"
      ]
     },
     "metadata": {},
     "output_type": "display_data"
    }
   ],
   "source": [
    "plt.plot(Pi)"
   ]
  },
  {
   "cell_type": "code",
   "execution_count": 7,
   "metadata": {},
   "outputs": [
    {
     "name": "stdout",
     "output_type": "stream",
     "text": [
      "0.59\n"
     ]
    }
   ],
   "source": [
    "\"\"\"\n",
    "    e)\n",
    "simply train VI with gamma = 1 - 1 / 30\n",
    "let simulation have a 1 / 30 chance of ending\n",
    "\"\"\"\n",
    "value, policy = VI(1 - 1 / 30)\n",
    "\n",
    "\"\"\"\n",
    "    f)\n",
    "Simply simulate\n",
    "\"\"\"\n",
    "N = 100\n",
    "k = 0\n",
    "for _ in range(N):\n",
    "    escaped, map_p, map_m = simulate_VI(policy, 1 / 30)\n",
    "    if escaped: k += 1\n",
    "print(k / N)"
   ]
  },
  {
   "cell_type": "code",
   "execution_count": 21,
   "metadata": {},
   "outputs": [
    {
     "data": {
      "image/png": "[encoded data removed]",
      "text/plain": [
       "<Figure size 640x480 with 1 Axes>"
      ]
     },
     "metadata": {},
     "output_type": "display_data"
    },
    {
     "data": {
      "image/png": "[encoded data removed]",
      "text/plain": [
       "<Figure size 640x480 with 1 Axes>"
      ]
     },
     "metadata": {},
     "output_type": "display_data"
    }
   ],
   "source": [
    "# plot policy by drawing centered arrows\n",
    "def plot_policy(m):\n",
    "    plt.imshow(np.ones((H, W)), alpha=w.T.astype(np.float32), cmap='gray')\n",
    "    for x in range(W):\n",
    "        for y in range(H):\n",
    "            s = np.ravel_multi_index((x, y, *m), (W, H, W, H))\n",
    "            if f[x, y]:\n",
    "                if policy[s] == UP: plt.arrow(x, y, 0, -0.5, color='r', width=0.1)\n",
    "                if policy[s] == DOWN: plt.arrow(x, y, 0, 0.5, color='r', width=0.1)\n",
    "                if policy[s] == RIGHT: plt.arrow(x, y, -0.5, 0, color='r', width=0.1)\n",
    "                if policy[s] == LEFT: plt.arrow(x, y, 0.5, 0, color='r', width=0.1)\n",
    "    plt.plot(*m, 'go', markersize=20)\n",
    "plot_policy((5, 6))\n",
    "plt.show()\n",
    "plot_policy((3, 4))\n",
    "plt.show()"
   ]
  },
  {
   "cell_type": "code",
   "execution_count": null,
   "metadata": {},
   "outputs": [],
   "source": []
  },
  {
   "cell_type": "code",
   "execution_count": 8,
   "metadata": {},
   "outputs": [
    {
     "data": {
      "text/plain": [
       "'\\n    h)\\nlet gamma = 1 - 1 / 50, double the amount of states such that one half corresponds to having the key and one half corresponds to not having the key\\nP_m_new = 0.65 P_m + 0.35 * T_{towards_you}, everything else remains the same!\\n'"
      ]
     },
     "execution_count": 8,
     "metadata": {},
     "output_type": "execute_result"
    }
   ],
   "source": [
    "\"\"\"\n",
    "    g)\n",
    "1) On policy is when one may observe the minotaur's actions and react to them. Off policy is when one may not\n",
    "2) Both Q-learning and SARSA are fixed point iterations of the bellman equation, and thus converge to the optimal policy\n",
    "This is true given that 1 >= lambda_i(P) >= 0, for all i (eigenvalues), and gamma < 1\n",
    "\"\"\"\n",
    "\n",
    "\"\"\"\n",
    "    h)\n",
    "let gamma = 1 - 1 / 50, double the amount of states such that one half corresponds to having the key and one half corresponds to not having the key\n",
    "P_m_new = 0.65 P_m + 0.35 * T_{towards_you}, everything else remains the same!\n",
    "\"\"\""
   ]
  }
 ],
 "metadata": {
  "kernelspec": {
   "display_name": "Python 3",
   "language": "python",
   "name": "python3"
  },
  "language_info": {
   "codemirror_mode": {
    "name": "ipython",
    "version": 3
   },
   "file_extension": ".py",
   "mimetype": "text/x-python",
   "name": "python",
   "nbconvert_exporter": "python",
   "pygments_lexer": "ipython3",
   "version": "3.10.12"
  }
 },
 "nbformat": 4,
 "nbformat_minor": 2
}
